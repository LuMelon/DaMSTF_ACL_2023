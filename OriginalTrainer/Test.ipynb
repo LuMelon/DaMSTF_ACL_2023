{
 "cells": [
  {
   "cell_type": "code",
   "execution_count": 1,
   "id": "1fcb8847",
   "metadata": {},
   "source": [
    "from BiGCN_Trainer import *"
   ],
   "outputs": []
  },
  {
   "cell_type": "code",
   "execution_count": 6,
   "id": "bde3b1f5",
   "metadata": {},
   "source": [
    "import os"
   ],
   "outputs": []
  },
  {
   "cell_type": "code",
   "execution_count": 2,
   "id": "00c0d134",
   "metadata": {},
   "source": [
    "os.environ['DaMSTF_PATH'] = '/data01/home/scy0798/run/MLLu/da-mstf_-paper_-codes'"
   ],
   "outputs": []
  },
  {
   "cell_type": "code",
   "execution_count": 7,
   "id": "212236d1",
   "metadata": {},
   "source": [
    "    data_dir = os.path.abspath(os.path.join(os.environ['DaMSTF_PATH'], \"../pheme-rnr-dataset/\"))\n",
    "    events_list = ['charliehebdo',  'ferguson',  'germanwings-crash',  'ottawashooting',  'sydneysiege']\n",
    "    # for domain_ID in range(5):\n",
    "    domain_ID = 0\n",
    "    source_events = [os.path.join(data_dir, dname)\n",
    "                     for idx, dname in enumerate(events_list) if idx != domain_ID]\n",
    "    target_events = [os.path.join(data_dir, events_list[domain_ID])]\n",
    "    test_event_name = events_list[domain_ID]"
   ],
   "outputs": []
  },
  {
   "cell_type": "code",
   "execution_count": 4,
   "id": "139ac8a7",
   "metadata": {},
   "source": [
    "    tfidf_vectorizer, tr, _, dev, te = load_data_and_TfidfVectorizer(\n",
    "        source_events, target_events, 0, unlabeled_ratio=-1\n",
    "    )"
   ],
   "outputs": []
  },
  {
   "cell_type": "code",
   "execution_count": 5,
   "id": "e6c011ad",
   "metadata": {},
   "source": [
    "    model = obtain_BiGCN(tfidf_vectorizer)\n",
    "    dev_eval = BiGCNEvaluator(dev, batch_size=20)\n",
    "    te_eval = BiGCNEvaluator(te, batch_size=20)"
   ],
   "outputs": []
  },
  {
   "cell_type": "code",
   "execution_count": 16,
   "id": "4dc4e2f9",
   "metadata": {},
   "source": [
    "from torch.utils.data import Dataset\n",
    "class BiGCNTrainer(RumorBaseTrainer):\n",
    "    def __init__(self, log_dir, tokenizer:TfidfVectorizer, **kwargs):\n",
    "        super(BiGCNTrainer, self).__init__()\n",
    "        for k, v in kwargs.items():\n",
    "            if not hasattr(self, k):\n",
    "                raise Exception(f\"Attribute '{k}' is not a valid attribute of DaMSTF\")\n",
    "            self.__setattr__(k, v)\n",
    "\n",
    "        self.running_dir = log_dir\n",
    "        if not os.path.exists(self.running_dir):\n",
    "            os.system(f\"mkdir {self.running_dir}\")\n",
    "        self.tokenizer = tokenizer\n",
    "        self.device = torch.device(\"cuda\") if torch.cuda.is_available() else torch.device(\"cpu\")\n",
    "\n",
    "    def collate_fn(self, items):\n",
    "        device = torch.device(\"cuda\") if torch.cuda.is_available() else torch.device('cpu')\n",
    "        tfidf_arr = torch.cat(\n",
    "            [item[0] for item in items],\n",
    "            dim=0\n",
    "        )\n",
    "        TD_graphs = [item[1] for item in items]\n",
    "        BU_graphs = [item[2] for item in items]\n",
    "        labels = [item[3] for item in items]\n",
    "        topic_labels = [item[4] for item in items]\n",
    "        num_nodes = [g.num_nodes() for g in TD_graphs]\n",
    "        big_g_TD = dgl.batch(TD_graphs)\n",
    "        big_g_BU = dgl.batch(BU_graphs)\n",
    "        A_TD = big_g_TD.adjacency_matrix().to_dense().to(device)\n",
    "        A_BU = big_g_BU.adjacency_matrix().to_dense().to(device)\n",
    "        return tfidf_arr, num_nodes, A_TD, A_BU, \\\n",
    "               torch.tensor(labels), torch.tensor(topic_labels)\n",
    "\n",
    "    def trainset2trainloader(self, dataset:Dataset, shuffle=False, batch_size=32):\n",
    "        return self.dataset2dataloader(dataset, shuffle, batch_size)\n",
    "    \n",
    "    def dataset2dataloader(self, dataset:FastBiGCNDataset, shuffle=False, batch_size=32):\n",
    "        if shuffle:\n",
    "            idxs = random.sample(range(len(dataset)), len(dataset))*2\n",
    "        else:\n",
    "            idxs = [*range(len(dataset))]*2\n",
    "        @background(max_prefetch=5)\n",
    "        def dataloader():\n",
    "            for start in range(0, len(dataset), batch_size):\n",
    "                batch_idxs = idxs[start:start+batch_size]\n",
    "                items = [dataset[index] for index in batch_idxs]\n",
    "                yield self.collate_fn(items)\n",
    "        return dataloader()"
   ],
   "outputs": []
  },
  {
   "cell_type": "code",
   "execution_count": 17,
   "id": "87c99e34",
   "metadata": {},
   "source": [
    "log_dir = f\"./{test_event_name}/\"\n",
    "trainer = BiGCNTrainer(log_dir, tfidf_vectorizer, model_rename=True)"
   ],
   "outputs": []
  },
  {
   "cell_type": "code",
   "execution_count": 18,
   "id": "1a4b05ee",
   "metadata": {},
   "source": [
    "    trainer.fit(model, tr, dev_eval, te_eval, batch_size=32, grad_accum_cnt=1, learning_rate=5e-4, max_epochs=20,\n",
    "                    model_file=os.path.join(log_dir, f'BiGCN_{test_event_name}.pkl'))"
   ],
   "outputs": []
  },
  {
   "cell_type": "code",
   "execution_count": null,
   "id": "9ca40ba6",
   "metadata": {},
   "source": [],
   "outputs": []
  }
 ],
 "metadata": {
  "kernelspec": {
   "display_name": "Python [conda env:miniconda3-lml]",
   "language": "python",
   "name": "conda-env-miniconda3-lml-py"
  },
  "language_info": {
   "codemirror_mode": {
    "name": "ipython",
    "version": 3
   },
   "file_extension": ".py",
   "mimetype": "text/x-python",
   "name": "python",
   "nbconvert_exporter": "python",
   "pygments_lexer": "ipython3",
   "version": "3.7.1"
  }
 },
 "nbformat": 4,
 "nbformat_minor": 5
}
