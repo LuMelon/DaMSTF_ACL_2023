{
 "cells": [
  {
   "cell_type": "code",
   "execution_count": 14,
   "id": "3ecbd66c",
   "metadata": {},
   "source": [
    "import sys\n",
    "sys.path.append(\"../\")"
   ],
   "outputs": []
  },
  {
   "cell_type": "code",
   "execution_count": 2,
   "id": "4638a2a9",
   "metadata": {},
   "source": [
    "from Data.BiGCN_Dataloader import *"
   ],
   "outputs": []
  },
  {
   "cell_type": "code",
   "execution_count": 3,
   "id": "bb8a0e8e",
   "metadata": {},
   "source": [
    "!pwd"
   ],
   "outputs": []
  },
  {
   "cell_type": "code",
   "execution_count": 4,
   "id": "309e5553",
   "metadata": {},
   "source": [
    "os.environ['DaMSTF_PATH'] = '/data01/home/scy0798/run/MLLu/da-mstf_-paper_-codes'"
   ],
   "outputs": []
  },
  {
   "cell_type": "code",
   "execution_count": 5,
   "id": "8c1c962b",
   "metadata": {},
   "source": [
    "dir_name = \"/data01/home/scy0798/run/MLLu/pheme-rnr-dataset/\""
   ],
   "outputs": []
  },
  {
   "cell_type": "code",
   "execution_count": 6,
   "id": "7f20575d",
   "metadata": {},
   "source": [
    "e_l = [fname for fname in [os.path.join(dir_name, path) for path in os.listdir(dir_name)] if os.path.isdir(fname)]"
   ],
   "outputs": []
  },
  {
   "cell_type": "code",
   "execution_count": 7,
   "id": "a3ea1437",
   "metadata": {},
   "source": [
    "rst = load_data(e_l[:4], e_l[4:])"
   ],
   "outputs": []
  },
  {
   "cell_type": "code",
   "execution_count": 8,
   "id": "d2d3c676",
   "metadata": {},
   "source": [
    "from BaseModel.BiGCN import *"
   ],
   "outputs": []
  },
  {
   "cell_type": "code",
   "execution_count": 9,
   "id": "c645528c",
   "metadata": {},
   "source": [
    "    Tf_Idf_twitter_file = f\"{os.environ['DaMSTF_PATH']}/Caches/TfIdf_twitter.pkl\"\n",
    "    if os.path.exists(Tf_Idf_twitter_file):\n",
    "        with open(Tf_Idf_twitter_file, \"rb\") as fr:\n",
    "            tv = pickle.load(fr)"
   ],
   "outputs": []
  },
  {
   "cell_type": "code",
   "execution_count": 10,
   "id": "0e81a806",
   "metadata": {},
   "source": [
    "    lvec = TFIDFBasedVecV2(tv, 20,\n",
    "                         embedding_size=100,\n",
    "                         w2v_dir=\"../../glove_en/\",\n",
    "                         emb_update=True,\n",
    "                         grad_preserve=True)"
   ],
   "outputs": []
  },
  {
   "cell_type": "code",
   "execution_count": 11,
   "id": "52004fc7",
   "metadata": {},
   "source": [
    "lvec.embedding.weight"
   ],
   "outputs": []
  },
  {
   "cell_type": "code",
   "execution_count": 12,
   "id": "4bf4e215",
   "metadata": {},
   "source": [
    "def obtain_BiGCN(pretrained_vectorizer, device=None):\n",
    "    if device is None:\n",
    "        device = torch.device(\"cuda\") if torch.cuda.is_available() else torch.device('cpu')\n",
    "    lvec = TFIDFBasedVecV2(pretrained_vectorizer, 20,\n",
    "                         embedding_size=100,\n",
    "                         w2v_dir=\"../../glove_en/\",\n",
    "                         emb_update=True,\n",
    "                         grad_preserve=True).to(device)\n",
    "    prop = BiGCNV2(100, 256).to(device)\n",
    "    cls = nn.Linear(1024, 2).to(device)\n",
    "    BiGCN_model = TwitterBiGCN(lvec, prop, cls)\n",
    "    return BiGCN_model"
   ],
   "outputs": []
  },
  {
   "cell_type": "code",
   "execution_count": 13,
   "id": "bd739e21",
   "metadata": {},
   "source": [
    "model = obtain_BiGCN(tv)"
   ],
   "outputs": []
  },
  {
   "cell_type": "code",
   "execution_count": null,
   "id": "1ad54cd3",
   "metadata": {},
   "source": [],
   "outputs": []
  },
  {
   "cell_type": "code",
   "execution_count": 15,
   "id": "b48ec12e",
   "metadata": {},
   "source": [
    "class BiGCNTrainer(RumorBaseTrainer):\n",
    "    def __init__(self, log_dir, tokenizer:TfidfVectorizer):\n",
    "        super(BiGCNTrainer, self).__init__()\n",
    "        self.running_dir = log_dir\n",
    "        if not os.path.exists(self.running_dir):\n",
    "            os.system(f\"mkdir {self.running_dir}\")\n",
    "        self.tokenizer = tokenizer\n",
    "        self.device = torch.device(\"cuda\") if torch.cuda.is_available() else torch.device(\"cpu\")\n",
    "\n",
    "    def collate_fn(self, items):\n",
    "        device = torch.device(\"cuda\") if torch.cuda.is_available() else torch.device('cpu')\n",
    "        tfidf_arr = torch.cat(\n",
    "            [item[0] for item in items],\n",
    "            dim=0\n",
    "        )\n",
    "        TD_graphs = [item[1] for item in items]\n",
    "        BU_graphs = [item[2] for item in items]\n",
    "        labels = [item[3] for item in items]\n",
    "        topic_labels = [item[4] for item in items]\n",
    "        num_nodes = [g.num_nodes() for g in TD_graphs]\n",
    "        big_g_TD = dgl.batch(TD_graphs)\n",
    "        big_g_BU = dgl.batch(BU_graphs)\n",
    "        A_TD = big_g_TD.adjacency_matrix().to_dense().to(device)\n",
    "        A_BU = big_g_BU.adjacency_matrix().to_dense().to(device)\n",
    "        return tfidf_arr, num_nodes, A_TD, A_BU, \\\n",
    "               torch.tensor(labels), torch.tensor(topic_labels)\n",
    "\n",
    "    def dataset2dataloader(self, dataset:FastBiGCNDataset, shuffle=False, batch_size=32):\n",
    "        if shuffle:\n",
    "            idxs = random.sample(range(len(dataset)), len(dataset))*2\n",
    "        else:\n",
    "            idxs = [*range(len(dataset))]*2\n",
    "        @background(max_prefetch=5)\n",
    "        def dataloader():\n",
    "            for start in range(0, len(dataset), batch_size):\n",
    "                batch_idxs = idxs[start:start+batch_size]\n",
    "                items = [dataset[index] for index in batch_idxs]\n",
    "                yield self.collate_fn(items)\n",
    "        return dataloader()"
   ],
   "outputs": []
  },
  {
   "cell_type": "code",
   "execution_count": null,
   "id": "a0ebfd67",
   "metadata": {},
   "source": [],
   "outputs": []
  }
 ],
 "metadata": {
  "kernelspec": {
   "display_name": "Python [conda env:miniconda3-lml]",
   "language": "python",
   "name": "conda-env-miniconda3-lml-py"
  },
  "language_info": {
   "codemirror_mode": {
    "name": "ipython",
    "version": 3
   },
   "file_extension": ".py",
   "mimetype": "text/x-python",
   "name": "python",
   "nbconvert_exporter": "python",
   "pygments_lexer": "ipython3",
   "version": "3.7.1"
  }
 },
 "nbformat": 4,
 "nbformat_minor": 5
}
